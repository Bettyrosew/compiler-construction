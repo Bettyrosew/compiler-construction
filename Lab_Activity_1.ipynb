{
  "nbformat": 4,
  "nbformat_minor": 0,
  "metadata": {
    "colab": {
      "provenance": [],
      "collapsed_sections": [],
      "include_colab_link": true
    },
    "kernelspec": {
      "name": "python3",
      "display_name": "Python 3"
    },
    "language_info": {
      "name": "python"
    }
  },
  "cells": [
    {
      "cell_type": "markdown",
      "metadata": {
        "id": "view-in-github",
        "colab_type": "text"
      },
      "source": [
        "<a href=\"https://colab.research.google.com/github/joel-rodgers/compiler-construction/blob/main/Lab_Activity_1.ipynb\" target=\"_parent\"><img src=\"https://colab.research.google.com/assets/colab-badge.svg\" alt=\"Open In Colab\"/></a>"
      ]
    },
    {
      "cell_type": "markdown",
      "source": [
        "**GROUP MEMBERS (ICS4C)**\n",
        "1.   122184-Joel Rodgers K'obara\n",
        "2.   120226-Davies Nathan Akidiva\n",
        "3.   115862-Richard Jeremy Githuba\n",
        "4.   121660-Alex Wamai Kariuki\n",
        "5.   120357-Bettyrose Mburu\n",
        "\n",
        "\n",
        "\n",
        "\n",
        "\n",
        "\n",
        "\n",
        "\n",
        "\n",
        "\n",
        "\n",
        "\n",
        "\n"
      ],
      "metadata": {
        "id": "1LWLMAC-z243"
      }
    },
    {
      "cell_type": "markdown",
      "source": [
        "**Lab 1: Flex, Bison, Lex, Yacc**"
      ],
      "metadata": {
        "id": "_wttTFFylguX"
      }
    },
    {
      "cell_type": "markdown",
      "source": [
        "**Flex**"
      ],
      "metadata": {
        "id": "Sei9nR-0mPZd"
      }
    },
    {
      "cell_type": "markdown",
      "source": [
        "Flex (fast lexical analyzer generator) is a free and open-source software alternative to lex. It is a tool/computer program for generating lexical analyzers (scanners or lexers). It is used together with Berkeley Yacc parser generator or GNU Bison parser generator."
      ],
      "metadata": {
        "id": "rCUA_BAUmWER"
      }
    },
    {
      "cell_type": "markdown",
      "source": [
        "![lex.png](data:image/png;base64,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)"
      ],
      "metadata": {
        "id": "2t2MMGeancaX"
      }
    },
    {
      "cell_type": "markdown",
      "source": [
        "**Flex code snippet**"
      ],
      "metadata": {
        "id": "NcobH7pT20hw"
      }
    },
    {
      "cell_type": "code",
      "source": [
        "/***Code to Count the number of characters and number of lines in the input ***/\n",
        "/* Declaring two counters one for number\n",
        "of lines other for number of characters */\n",
        "%{\n",
        "int no_of_lines = 0;\n",
        "int no_of_chars = 0;\n",
        "%}\n",
        "\n",
        "/***rule 1 counts the number of lines,\n",
        "rule 2 counts the number of characters\n",
        "and rule 3 specifies when to stop\n",
        "taking input***/\n",
        "%%\n",
        "\\n\t ++no_of_lines;\n",
        ".\t ++no_of_chars;\n",
        "end\t return 0;\n",
        "%%\n",
        "\n",
        "/*** User code section***/\n",
        "int yywrap(){}\n",
        "int main(int argc, char **argv)\n",
        "{\n",
        "\n",
        "yylex();\n",
        "printf(\"number of lines = %d, number of chars = %d\\n\",\n",
        "\tno_of_lines, no_of_chars );\n",
        "\n",
        "return 0;\n",
        "}\n"
      ],
      "metadata": {
        "id": "PyXXmHqxVTeh"
      },
      "execution_count": null,
      "outputs": []
    },
    {
      "cell_type": "markdown",
      "source": [
        "**Bison**"
      ],
      "metadata": {
        "id": "_kKScTj_rhhx"
      }
    },
    {
      "cell_type": "markdown",
      "source": [
        "Bison is a general-purpose parser generator that converts an annotated context-free grammar into a deterministic LR or generalized LR parser employing LALR, IELR or canonical LR parser tables. Bison is compatible with Yacc, properly written Yacc grammars can work with Bison without changing the grammar."
      ],
      "metadata": {
        "id": "CVk-7bmSrlF-"
      }
    },
    {
      "cell_type": "markdown",
      "source": [
        "![bison.png](data:image/png;base64,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)"
      ],
      "metadata": {
        "id": "jRtcFVUkyi0d"
      }
    },
    {
      "cell_type": "markdown",
      "source": [
        "**Bison code snippet**"
      ],
      "metadata": {
        "id": "Z1i6UtpU9_6G"
      }
    },
    {
      "cell_type": "code",
      "source": [
        "/* simplest version of calculator */\n",
        "%{\n",
        "#include <stdio.h>\n",
        "%}\n",
        "\n",
        "/* declare tokens */\n",
        "%token NUMBER\n",
        "%token ADD SUB MUL DIV ABS\n",
        "%token EOL\n",
        "\n",
        "%%\n",
        "\n",
        "calclist: /* nothing */                       matches at beginning of input\n",
        " | calclist exp EOL { printf(\"= %d\\n\", $2); } EOL is end of an expression\n",
        " ;\n",
        "\n",
        "exp: factor       default $$ = $1 \n",
        " | exp ADD factor { $$ = $1 + $3; }\n",
        " | exp SUB factor { $$ = $1 - $3; }\n",
        " ;\n",
        "\n",
        "factor: term       default $$ = $1 \n",
        " | factor MUL term { $$ = $1 * $3; }\n",
        " | factor DIV term { $$ = $1 / $3; }\n",
        " ;\n",
        "\n",
        "term: NUMBER  default $$ = $1 \n",
        " | ABS term   { $$ = $2 >= 0? $2 : - $2; }\n",
        ";\n",
        "%%\n",
        "main(int argc, char **argv)\n",
        "{\n",
        "  yyparse();\n",
        "}\n",
        "\n",
        "yyerror(char *s)\n",
        "{\n",
        "  fprintf(stderr, \"error: %s\\n\", s);\n",
        "}"
      ],
      "metadata": {
        "id": "1PoSUIscVUgZ"
      },
      "execution_count": null,
      "outputs": []
    },
    {
      "cell_type": "markdown",
      "source": [
        "**Lex**\n",
        "\n",
        "Lex is a program that generates lexical analyzer. It is used with YACC parser generator. The lexical analyzer is a program that transforms an input stream into a sequence of tokens.It reads the input stream and produces the source code as output through implementing the lexical analyzer in the C program.\n"
      ],
      "metadata": {
        "id": "52Ca1w1JUcws"
      }
    },
    {
      "cell_type": "markdown",
      "source": [
        "![lex.png](data:image/png;base64,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)"
      ],
      "metadata": {
        "id": "d6ww-AwZWpUC"
      }
    },
    {
      "cell_type": "markdown",
      "source": [
        "**Lex code snippet**"
      ],
      "metadata": {
        "id": "p86vDpK23hVT"
      }
    },
    {
      "cell_type": "code",
      "source": [
        "/*lex abc.l (abc is the file name)\n",
        "cc lex.yy.c -efl\n",
        "./a.out */\n",
        "\n",
        "Input : \n",
        "3+3\n",
        "Output :\n",
        "6.0\n",
        "\n",
        "Input : \n",
        "5*4\n",
        "Output : \n",
        "20.0 \n",
        "\n",
        "/*lex program to implement\n",
        "\t\t- a simple calculator.*/\n",
        "\n",
        "% {\n",
        "int op = 0,i;\n",
        "float a, b;\n",
        "% }\n",
        "\n",
        "dig [0-9]+|([0-9]*)\".\"([0-9]+)\n",
        "add \"+\"\n",
        "sub \"-\"\n",
        "mul \"*\"\n",
        "div \"/\"\n",
        "pow \"^\"\n",
        "ln \\n\n",
        "%%\n",
        "\n",
        "/* digi() is a user defined function */\n",
        "{dig} {digi();}\n",
        "{add} {op=1;}\n",
        "{sub} {op=2;}\n",
        "{mul} {op=3;}\n",
        "{div} {op=4;}\n",
        "{pow} {op=5;}\n",
        "{ln} {printf(\"\\n The Answer :%f\\n\\n\",a);}\n",
        "\n",
        "%%\n",
        "digi()\n",
        "{\n",
        "if(op==0)\n",
        "\n",
        "/* atof() is used to convert\n",
        "\t- the ASCII input to float */\n",
        "a=atof(yytext);\n",
        "\n",
        "else\n",
        "{\n",
        "b=atof(yytext);\n",
        "\n",
        "switch(op)\n",
        "{\n",
        "case 1:a=a+b;\n",
        "\tbreak;\n",
        "\n",
        "case 2:a=a-b;\n",
        "break;\n",
        "\n",
        "case 3:a=a*b;\n",
        "break;\n",
        "\n",
        "case 4:a=a/b;\n",
        "break;\n",
        "\n",
        "case 5:for(i=a;b>1;b--)\n",
        "a=a*i;\n",
        "break;\n",
        "}\n",
        "op=0;\n",
        "}\n",
        "}\n",
        "\n",
        "main(int argv,char *argc[])\n",
        "{\n",
        "yylex();\n",
        "}\n",
        "\n",
        "yywrap()\n",
        "{\n",
        "return 1;\n",
        "}\n"
      ],
      "metadata": {
        "id": "qMM5XdR1VWeM"
      },
      "execution_count": null,
      "outputs": []
    },
    {
      "cell_type": "markdown",
      "source": [
        "**Yacc**"
      ],
      "metadata": {
        "id": "e5P6mXx8GAfc"
      }
    },
    {
      "cell_type": "markdown",
      "source": [
        "YACC stands for Yet Another Compiler Compiler.\n",
        "YACC provides a tool to produce a parser for a given grammar.\n",
        "YACC is a program designed to compile a Look ahead left right(LALR) grammar.\n",
        "It is used to produce the source code of the syntactic analyzer of the language produced by LALR grammar.\n",
        "The input of YACC is the rule or grammar and the output is a C program."
      ],
      "metadata": {
        "id": "-jNtV16soBtn"
      }
    },
    {
      "cell_type": "markdown",
      "source": [
        "![Yaac.png](data:image/png;base64,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)"
      ],
      "metadata": {
        "id": "7ny4ZZRdpHdO"
      }
    },
    {
      "cell_type": "markdown",
      "source": [
        "**Yacc code snippet**"
      ],
      "metadata": {
        "id": "NGZ8Xf7tq2tG"
      }
    },
    {
      "cell_type": "code",
      "source": [
        "%{\n",
        "#include <ctype.h>\n",
        "#include <stdio.h>\n",
        "#define YYSTYPE double /* double type for yacc stack */\n",
        "%}\n",
        "\n",
        "%%\n",
        "Lines : Lines S '\\n' { printf(\"OK \\n\"); }\n",
        "\t| S '\\n’\n",
        "\t| error '\\n' {yyerror(\"Error: reenter last line:\");\n",
        "\t\t\t\t\t\tyyerrok; };\n",
        "S\t : '(' S ')’\n",
        "\t| '[' S ']’\n",
        "\t| /* empty */ ;\n",
        "%%\n",
        "\n",
        "#include \"lex.yy.c\"\n",
        "\n",
        "void yyerror(char * s)\n",
        "/* yacc error handler */\n",
        "{\n",
        "fprintf (stderr, \"%s\\n\", s);\n",
        "}\n",
        "\n",
        "int main(void)\n",
        "{\n",
        "return yyparse();\n",
        "}\n"
      ],
      "metadata": {
        "id": "UVqflQAFoajc"
      },
      "execution_count": null,
      "outputs": []
    }
  ]
}